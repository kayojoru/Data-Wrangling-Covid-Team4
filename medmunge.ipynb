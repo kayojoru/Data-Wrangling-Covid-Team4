{
 "cells": [
  {
   "cell_type": "code",
   "execution_count": 1,
   "id": "ed48fbee-6fdf-4b4a-ad24-afb93dbe155f",
   "metadata": {},
   "outputs": [],
   "source": [
    "import pandas as pd"
   ]
  },
  {
   "cell_type": "code",
   "execution_count": 4,
   "id": "6cf3ada1-6b03-4863-9a20-e2741b8c17eb",
   "metadata": {},
   "outputs": [
    {
     "name": "stdout",
     "output_type": "stream",
     "text": [
      "Shape of the CSV: (878409238, 9)\n"
     ]
    }
   ],
   "source": [
    "import csv\n",
    "\n",
    "csv_file_path = 'medication\\medication.csv'\n",
    "row_count = 0\n",
    "col_count = 0\n",
    "\n",
    "with open(csv_file_path, 'r') as csv_file:\n",
    "    csv_reader = csv.reader(csv_file)\n",
    "    \n",
    "    for row in csv_reader:\n",
    "        if row_count == 0:\n",
    "            col_count = len(row)\n",
    "        row_count += 1\n",
    "\n",
    "print(f\"Shape of the CSV: ({row_count - 1}, {col_count})\")  # Subtract 1 from row_count to exclude the header row\n"
   ]
  },
  {
   "cell_type": "code",
   "execution_count": 6,
   "id": "96869af7-7ae8-4082-a74b-fa0d2002343d",
   "metadata": {},
   "outputs": [
    {
     "name": "stdout",
     "output_type": "stream",
     "text": [
      "Shape of the CSV: (630309878, 8)\n"
     ]
    }
   ],
   "source": [
    "import csv\n",
    "\n",
    "lab_csv_file_path = 'F:\\\\Dropbox\\\\OVERWATCH\\\\DOCUMENTS\\\\School\\\\UofU\\\\BMI 6016 DataOps\\\\Project\\\\lab_result\\\\lab_result.csv'\n",
    "lab_row_count = 0\n",
    "lab_col_count = 0\n",
    "\n",
    "with open(lab_csv_file_path, 'r') as lab_csv_file:\n",
    "    lab_csv_reader = csv.reader(lab_csv_file)\n",
    "    \n",
    "    for row in lab_csv_reader:\n",
    "        if lab_row_count == 0:\n",
    "            lab_col_count = len(row)\n",
    "        lab_row_count += 1\n",
    "\n",
    "print(f\"Shape of the CSV: ({lab_row_count - 1}, {lab_col_count})\")  # Subtract 1 from row_count to exclude the header row"
   ]
  },
  {
   "cell_type": "code",
   "execution_count": 8,
   "id": "c2bd9dfd-97fb-472b-ac07-aa8804159389",
   "metadata": {},
   "outputs": [
    {
     "name": "stdout",
     "output_type": "stream",
     "text": [
      "['patient_id', 'encounter_id', 'code_system', 'code', 'date', 'lab_result_num_val', 'lab_result_text_val', 'derived_by_TriNetX']\n",
      "{'patient_id': 'bb49be2fc3352f646952a33bc512f6648f1246c1', 'encounter_id': '4ff92d0bcddadec100f5bb39f88a46d1016816bc', 'code_system': 'LOINC', 'code': '30522-7', 'date': '20200810', 'lab_result_num_val': '0.72', 'lab_result_text_val': '', 'derived_by_TriNetX': 'F'}\n",
      "{'patient_id': '6b56e6a6efe63bb11eead9d18365453534287ab3', 'encounter_id': 'a9c34ae5a4b80c8e8e5868957ceab165fd125577', 'code_system': 'TNX', 'code': '2003', 'date': '20161114', 'lab_result_num_val': '60', 'lab_result_text_val': '', 'derived_by_TriNetX': 'F'}\n",
      "{'patient_id': '6b56e6a6efe63bb11eead9d18365453534287ab3', 'encounter_id': 'a9c34ae5a4b80c8e8e5868957ceab165fd125577', 'code_system': 'LOINC', 'code': '10230-1', 'date': '20161114', 'lab_result_num_val': '60', 'lab_result_text_val': '', 'derived_by_TriNetX': 'F'}\n",
      "{'patient_id': '6b56e6a6efe63bb11eead9d18365453534287ab3', 'encounter_id': '412b1da924d63eea423cae23d42481c2f121c835', 'code_system': 'LOINC', 'code': '13457-7', 'date': '20180907', 'lab_result_num_val': '42', 'lab_result_text_val': '', 'derived_by_TriNetX': 'F'}\n",
      "{'patient_id': '6b56e6a6efe63bb11eead9d18365453534287ab3', 'encounter_id': 'a9fd51f04eab246d19dd38f44513cb071f9ed188', 'code_system': 'LOINC', 'code': '13457-7', 'date': '20180907', 'lab_result_num_val': '42', 'lab_result_text_val': '', 'derived_by_TriNetX': 'F'}\n"
     ]
    }
   ],
   "source": [
    "lab_source_file = open(lab_csv_file_path, 'r')\n",
    "lab_reader = csv.DictReader(lab_source_file)\n",
    "print(lab_reader.fieldnames)\n",
    "\n",
    "for i in range(0,5):\n",
    "    print(next(lab_reader))"
   ]
  },
  {
   "cell_type": "code",
   "execution_count": 9,
   "id": "29b73a4d-748a-45bb-a205-4668388102bf",
   "metadata": {},
   "outputs": [
    {
     "name": "stdout",
     "output_type": "stream",
     "text": [
      "['patient_id', 'encounter_id', 'code_system', 'code', 'start_date', 'route', 'brand', 'strength', 'derived_by_TriNetX']\n",
      "{'patient_id': 'c11adeff031d0701c258e12d950b9e090545875f', 'encounter_id': 'd25800e5d6a7e2773aa7e06e96e458c7a50a85fc', 'code_system': 'RxNorm', 'code': '1191', 'start_date': '20191209', 'route': 'Oral Product', 'brand': '', 'strength': '81 MG', 'derived_by_TriNetX': 'F'}\n",
      "{'patient_id': 'c11adeff031d0701c258e12d950b9e090545875f', 'encounter_id': 'd25800e5d6a7e2773aa7e06e96e458c7a50a85fc', 'code_system': 'RxNorm', 'code': '1191', 'start_date': '20191209', 'route': 'Oral Product', 'brand': 'Generic', 'strength': '81 MG', 'derived_by_TriNetX': 'F'}\n",
      "{'patient_id': 'c11adeff031d0701c258e12d950b9e090545875f', 'encounter_id': '7689171769ec1a373b96cdfd751a6742aa940cc4', 'code_system': 'RxNorm', 'code': '435', 'start_date': '20200811', 'route': 'Inhalant Product', 'brand': 'ProAir', 'strength': '0.09 MG/ACTUAT', 'derived_by_TriNetX': 'F'}\n",
      "{'patient_id': 'c11adeff031d0701c258e12d950b9e090545875f', 'encounter_id': '7689171769ec1a373b96cdfd751a6742aa940cc4', 'code_system': 'RxNorm', 'code': '25480', 'start_date': '20200811', 'route': 'Oral Product', 'brand': 'Unknown', 'strength': 'Unknown', 'derived_by_TriNetX': 'F'}\n",
      "{'patient_id': '6b56e6a6efe63bb11eead9d18365453534287ab3', 'encounter_id': 'a9cb3a56e9591b032c51b09f142b60780ca6fac6', 'code_system': 'RxNorm', 'code': '1364430', 'start_date': '20160505', 'route': 'Oral Product', 'brand': 'Eliquis', 'strength': '2.5 MG', 'derived_by_TriNetX': 'F'}\n"
     ]
    }
   ],
   "source": [
    "med_source_file = open(csv_file_path, 'r')\n",
    "med_reader = csv.DictReader(med_source_file)\n",
    "print(med_reader.fieldnames)\n",
    "\n",
    "for i in range(0,5):\n",
    "    print(next(med_reader))"
   ]
  },
  {
   "cell_type": "code",
   "execution_count": null,
   "id": "a2e8d620-4fb5-4b0a-948d-285018fde69b",
   "metadata": {},
   "outputs": [],
   "source": []
  }
 ],
 "metadata": {
  "kernelspec": {
   "display_name": "Python 3 (ipykernel)",
   "language": "python",
   "name": "python3"
  },
  "language_info": {
   "codemirror_mode": {
    "name": "ipython",
    "version": 3
   },
   "file_extension": ".py",
   "mimetype": "text/x-python",
   "name": "python",
   "nbconvert_exporter": "python",
   "pygments_lexer": "ipython3",
   "version": "3.11.0"
  }
 },
 "nbformat": 4,
 "nbformat_minor": 5
}
